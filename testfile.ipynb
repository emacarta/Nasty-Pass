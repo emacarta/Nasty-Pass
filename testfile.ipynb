{
 "cells": [
  {
   "cell_type": "markdown",
   "id": "45a23e37",
   "metadata": {},
   "source": [
    "# **Nasty Pass**\n",
    "\n",
    "1. All'utete viene chiesto se vuole generare una password da zero [new_password] o se ne vuole una perosnalizzata (parole o date a sua scelta) [custom_password]\n",
    "    1.1. [new_password] all'utente vengono rischieste le seguneti domande\n",
    "        1.1.1 numero di caratteri che devono essere utilizzati \n",
    "        1.1.2 se vuole utilizzare le lettere minuscole \n",
    "        1.1.3 se vuole utilizzare le lettere maiuscole \n",
    "        1.1.4 se vuole inserine la punteggiatura\n",
    "            1.1.4.1 viene chiesto all'utente di inserire il i livello di punteggiatura richiesto \n",
    "        1.1.5 verra chiesto all'utente quante password vuole generare \n",
    "        1.1.6 viene chiesto all'utente se si vuole salvare le password in un file o stamparle a schermo \n",
    "            1.1.6.1 se viene salvato in un file si crea un file txt con tutte le password\n",
    "        1.1.7 viene generata la password: puo essere sequenziale o randomica \n",
    "            1.1.7.1 RANDOMICA: la password deve essere generata in questa maniera viene pescato n volte quante il umero dei caratteri scelti una delle liste che l'utente ha deciso di utilizzare, dopo aver preso a caso la lista viene preso al suo interno in maiera random un valore\n",
    "            1.1.7.1 sequenziale: si sommano tutte le liste e si inizia a creare ogni possibile permutazione in base ai caratteri selezionati \n",
    "    1.2 [custom_password] lscisa per ora questa opzione vuota\n",
    "\n",
    "\n",
    "\n"
   ]
  },
  {
   "cell_type": "code",
   "execution_count": 7,
   "id": "2a4c7fa7",
   "metadata": {},
   "outputs": [],
   "source": [
    "logo = '''\n",
    "\n",
    "           ███▄    █  ▄▄▄        ██████ ▄▄▄█████▓▓██   ██▓    ██▓███   ▄▄▄        ██████   ██████           \n",
    "           ██ ▀█   █ ▒████▄    ▒██    ▒ ▓  ██▒ ▓▒ ▒██  ██▒   ▓██░  ██▒▒████▄    ▒██    ▒ ▒██    ▒           \n",
    "          ▓██  ▀█ ██▒▒██  ▀█▄  ░ ▓██▄   ▒ ▓██░ ▒░  ▒██ ██░   ▓██░ ██▓▒▒██  ▀█▄  ░ ▓██▄   ░ ▓██▄             \n",
    "          ▓██▒  ▐▌██▒░██▄▄▄▄██   ▒   ██▒░ ▓██▓ ░   ░ ▐██▓░   ▒██▄█▓▒ ▒░██▄▄▄▄██   ▒   ██▒  ▒   ██▒          \n",
    " ██▓  ██▓ ▒██░   ▓██░ ▓█   ▓██▒▒██████▒▒  ▒██▒ ░   ░ ██▒▓░   ▒██▒ ░  ░ ▓█   ▓██▒▒██████▒▒▒██████▒▒ ██▓  ██▓ \n",
    " ▒▓▒  ▒▓▒ ░ ▒░   ▒ ▒  ▒▒   ▓▒█░▒ ▒▓▒ ▒ ░  ▒ ░░      ██▒▒▒    ▒▓▒░ ░  ░ ▒▒   ▓▒█░▒ ▒▓▒ ▒ ░▒ ▒▓▒ ▒ ░ ▒▓▒  ▒▓▒ \n",
    " ░▒   ░▒  ░ ░░   ░ ▒░  ▒   ▒▒ ░░ ░▒  ░ ░    ░     ▓██ ░▒░    ░▒ ░       ▒   ▒▒ ░░ ░▒  ░ ░░ ░▒  ░ ░ ░▒   ░▒  \n",
    " ░    ░      ░   ░ ░   ░   ▒   ░  ░  ░    ░       ▒ ▒ ░░     ░░         ░   ▒   ░  ░  ░  ░  ░  ░   ░    ░   \n",
    "  ░    ░           ░       ░  ░      ░            ░ ░                       ░  ░      ░        ░    ░    ░  \n",
    "  ░    ░                                          ░ ░                                               ░    ░  \n",
    "\n",
    "'''"
   ]
  },
  {
   "cell_type": "markdown",
   "id": "34b21529",
   "metadata": {},
   "source": [
    "## **Functios**"
   ]
  },
  {
   "cell_type": "code",
   "execution_count": 15,
   "id": "bd00a019",
   "metadata": {},
   "outputs": [],
   "source": [
    "def get_punctuation_by_level():\n",
    "    level_1 = ['!', '@', '#', '$', '%', '&', '*', '_']\n",
    "    level_2 = ['^', '-', '+', '=', '?']\n",
    "    level_3 = ['\"', \"'\", '(', ')', ',', '.', '/', ':', ';', '<', '>', '[', '\\\\', ']', '`', '{', '|', '}', '~']\n",
    "\n",
    "    while True:\n",
    "        try:\n",
    "            level = int(input(\"Scegli il livello di punteggiatura (1, 2 o 3): \"))\n",
    "            if level == 1:\n",
    "                punctuation = level_1\n",
    "            elif level == 2:\n",
    "                punctuation = level_1 + level_2\n",
    "            elif level == 3:\n",
    "                punctuation = level_1 + level_2 + level_3\n",
    "            else:\n",
    "                print(\"Per favore inserisci 1, 2 o 3.\")\n",
    "                continue\n",
    "            return punctuation\n",
    "        except ValueError:\n",
    "            print(\"Input non valido. Inserisci un numero intero.\")\n"
   ]
  },
  {
   "cell_type": "markdown",
   "id": "c7b1dd74",
   "metadata": {},
   "source": [
    "## **Data**"
   ]
  },
  {
   "cell_type": "code",
   "execution_count": null,
   "id": "37afad3b",
   "metadata": {},
   "outputs": [
    {
     "name": "stdout",
     "output_type": "stream",
     "text": [
      "Input non valido. Inserisci un numero intero.\n"
     ]
    }
   ],
   "source": [
    "\n",
    "lowercase = ['a', 'b', 'c', 'd', 'e', 'f', 'g', 'h', 'i', 'j', 'k', 'l', 'm', 'n', 'o', 'p', 'q', 'r', 's', 't', 'u', 'v', 'w', 'x', 'y', 'z']\n",
    "uppercase = ['A', 'B', 'C', 'D', 'E', 'F', 'G', 'H', 'I', 'J', 'K', 'L', 'M', 'N', 'O', 'P', 'Q', 'R', 'S', 'T', 'U', 'V', 'W', 'X', 'Y', 'Z']\n",
    "digits = ['0', '1', '2', '3', '4', '5', '6', '7', '8', '9']\n",
    "punctuation = get_punctuation_by_level()\n",
    "\n",
    "\n",
    "letter_variants = {\n",
    "    'a': ['a', 'A', '@', '4'],\n",
    "    'b': ['b', 'B', '8'],\n",
    "    'c': ['c', 'C', '(', '<'],\n",
    "    'd': ['d', 'D'],\n",
    "    'e': ['e', 'E', '3'],\n",
    "    'f': ['f', 'F'],\n",
    "    'g': ['g', 'G', '9', '6'],\n",
    "    'h': ['h', 'H', '#'],\n",
    "    'i': ['i', 'I', '1', '!', '|'],\n",
    "    'j': ['j', 'J'],\n",
    "    'k': ['k', 'K'],\n",
    "    'l': ['l', 'L', '1', '|'],\n",
    "    'm': ['m', 'M'],\n",
    "    'n': ['n', 'N'],\n",
    "    'o': ['o', 'O', '0'],\n",
    "    'p': ['p', 'P'],\n",
    "    'q': ['q', 'Q', '9'],\n",
    "    'r': ['r', 'R'],\n",
    "    's': ['s', 'S', '$', '5'],\n",
    "    't': ['t', 'T', '7', '+'],\n",
    "    'u': ['u', 'U', 'v'],\n",
    "    'v': ['v', 'V', 'u'],\n",
    "    'w': ['w', 'W'],\n",
    "    'x': ['x', 'X', '%', '*'],\n",
    "    'y': ['y', 'Y'],\n",
    "    'z': ['z', 'Z', '2']\n",
    "}\n",
    "\n",
    "\n",
    "level_1 = ['!', '@', '#', '$', '%', '&', '*', '_']\n",
    "leve_2 = ['^', '-', '+', '=', '?']\n",
    "level_3 = ['\"', \"'\", '(', ')', ',', '.', '/', ':', ';', '<', '>', '[', '\\\\', ']', '`', '{', '|', '}', '~']\n",
    "\n"
   ]
  },
  {
   "cell_type": "code",
   "execution_count": null,
   "id": "8ec90d26",
   "metadata": {},
   "outputs": [
    {
     "name": "stdout",
     "output_type": "stream",
     "text": [
      ">&9.CNzq(\n",
      ">Gq-QdtdX\n",
      "R;>fn@Y_d\n",
      "NG68Vfw;S\n",
      ",~akzo3t0\n",
      "KI\"_/vFM=\n",
      "$!gw0w8t6\n",
      "-an-#VAk@\n",
      ",X/K<voN)\n",
      "EhHVJkC?~\n"
     ]
    }
   ],
   "source": [
    "import random\n",
    "import itertools\n",
    "\n",
    "def get_punctuation_by_level():\n",
    "    level_1 = ['!', '@', '#', '$', '%', '&', '*', '_']\n",
    "    level_2 = ['^', '-', '+', '=', '?']\n",
    "    level_3 = ['\"', \"'\", '(', ')', ',', '.', '/', ':', ';', '<', '>', '[', '\\\\', ']', '`', '{', '|', '}', '~']\n",
    "\n",
    "    while True:\n",
    "        try:\n",
    "            level = int(input(\"Scegli il livello di punteggiatura (1, 2 o 3): \"))\n",
    "            if level == 1:\n",
    "                return level_1\n",
    "            elif level == 2:\n",
    "                return level_1 + level_2\n",
    "            elif level == 3:\n",
    "                return level_1 + level_2 + level_3\n",
    "            else:\n",
    "                print(\"Per favore inserisci 1, 2 o 3.\")\n",
    "        except ValueError:\n",
    "            print(\"Input non valido. Inserisci un numero intero.\")\n",
    "\n",
    "def generate_passwords():\n",
    "    choice = input(\"Vuoi una new_password (1) o custom_password (2)? \").strip()\n",
    "\n",
    "    if choice == \"1\":\n",
    "        length = int(input(\"Numero di caratteri nella password: \"))\n",
    "        use_lower = input(\"Vuoi usare lettere minuscole?   (y/n): \").lower() == 'y'\n",
    "        use_upper = input(\"Vuoi usare lettere maiuscole?   (y/n): \").lower() == 'y'\n",
    "        use_digits = input(\"Vuoi usare numeri?             (y/n): \").lower() == 'y'\n",
    "        use_punct = input(\"Vuoi usare punteggiatura?       (y/n): \").lower() == 'y'\n",
    "\n",
    "        characters = []\n",
    "        if use_lower and use_upper:\n",
    "            characters += list(\"abcdefghijklmnopqrstuvwxyzABCDEFGHIJKLMNOPQRSTUVWXYZ\")\n",
    "        elif use_lower:\n",
    "            characters += list(\"abcdefghijklmnopqrstuvwxyz\")\n",
    "        elif use_upper:\n",
    "            characters += list(\"ABCDEFGHIJKLMNOPQRSTUVWXYZ\")\n",
    "\n",
    "        if use_digits:\n",
    "            characters += list(\"0123456789\")\n",
    "        if use_punct:\n",
    "            characters += get_punctuation_by_level()\n",
    "\n",
    "        if not characters:\n",
    "            print(\"Devi selezionare almeno un tipo di carattere.\")\n",
    "            return\n",
    "\n",
    "        num_passwords = int(input(\"Quante password vuoi generare? \"))\n",
    "        output_method = input(\"Vuoi stampare a schermo o salvare su file? [print/file]: \").strip()\n",
    "        generation_mode = input(\"Vuoi una password randomica o sequenziale? [random/sequential]: \").strip()\n",
    "\n",
    "        passwords = []\n",
    "\n",
    "        if generation_mode == 'random':\n",
    "            for _ in range(num_passwords):\n",
    "                password = ''.join(random.choice(characters) for _ in range(length))\n",
    "                passwords.append(password)\n",
    "\n",
    "        elif generation_mode == 'sequential':\n",
    "            all_combinations = itertools.product(characters, repeat=length)\n",
    "            for i, comb in enumerate(all_combinations):\n",
    "                if i >= num_passwords:\n",
    "                    break\n",
    "                passwords.append(''.join(comb))\n",
    "\n",
    "        if output_method == 'print':\n",
    "            for pwd in passwords:\n",
    "                print(pwd)\n",
    "        elif output_method == 'file':\n",
    "            file_name = input(\"Inserisci il nome del file.txt: \").strip()\n",
    "            with open(file_name, \"w\") as f:\n",
    "                for pwd in passwords:\n",
    "                    f.write(pwd + \"\\n\")\n",
    "            print(f\"Password salvate nel file '{file_name}'\")\n",
    "\n",
    "    elif choice == \"2\":\n",
    "        print(\"Funzionalità non ancora implementata.\")\n",
    "\n",
    "# Avvio\n",
    "if __name__ == \"__main__\":\n",
    "    generate_passwords()\n"
   ]
  },
  {
   "cell_type": "code",
   "execution_count": 3,
   "id": "b685d52d",
   "metadata": {},
   "outputs": [
    {
     "name": "stdout",
     "output_type": "stream",
     "text": [
      "['\"', \"'\", '(', ')', ',', '.', '/', ':', ';', '<']\n"
     ]
    }
   ],
   "source": [
    "level_3 = ['\"', \"'\", '(', ')', ',', '.', '/', ':', ';', '<', '>', '[', '\\\\', ']', '`', '{', '|', '}', '~']\n",
    "\n",
    "print(level_3[:10])"
   ]
  },
  {
   "cell_type": "code",
   "execution_count": 5,
   "id": "78cf2566",
   "metadata": {},
   "outputs": [
    {
     "name": "stdout",
     "output_type": "stream",
     "text": [
      "['>', '[', '\\\\', ']', '`', '{', '|', '}', '~']\n"
     ]
    }
   ],
   "source": [
    "print(level_3[10:])"
   ]
  }
 ],
 "metadata": {
  "kernelspec": {
   "display_name": "Python 3",
   "language": "python",
   "name": "python3"
  },
  "language_info": {
   "codemirror_mode": {
    "name": "ipython",
    "version": 3
   },
   "file_extension": ".py",
   "mimetype": "text/x-python",
   "name": "python",
   "nbconvert_exporter": "python",
   "pygments_lexer": "ipython3",
   "version": "3.12.3"
  }
 },
 "nbformat": 4,
 "nbformat_minor": 5
}
